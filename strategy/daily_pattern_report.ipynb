{
 "cells": [
  {
   "cell_type": "code",
   "execution_count": 1,
   "metadata": {
    "collapsed": true
   },
   "outputs": [],
   "source": [
    "import talib\n",
    "from data.Symbols import healthy_shares\n",
    "\n",
    "symbols = healthy_shares()\n",
    "interval = 1440\n",
    "\n",
    "patterns = talib.get_function_groups()['Pattern Recognition']"
   ]
  },
  {
   "cell_type": "code",
   "execution_count": 8,
   "outputs": [],
   "source": [
    "from datetime import datetime\n",
    "from data.TimescaleDBSticksDao import get_sticks\n",
    "\n",
    "def score_of_symbol(symbol: str, from_date: datetime, to_date: datetime):\n",
    "    sticks = get_sticks(symbol, interval, from_date, to_time=to_date)\n",
    "\n",
    "    scores_of_symbol = {}\n",
    "    for pattern in patterns:\n",
    "        # below is same as;\n",
    "        pattern_scores = getattr(talib, pattern)(sticks['ask_open'], sticks['ask_high'], sticks['ask_low'], sticks['ask_close'])\n",
    "        if pattern_scores.iloc[-1] != 0:\n",
    "            if scores_of_symbol:\n",
    "                scores_of_symbol[pattern] = pattern_scores.iloc[-1]\n",
    "            else:\n",
    "                scores_of_symbol = {pattern: pattern_scores.iloc[-1]}\n",
    "    return scores_of_symbol"
   ],
   "metadata": {
    "collapsed": false
   }
  },
  {
   "cell_type": "code",
   "execution_count": 8,
   "outputs": [
    {
     "ename": "AttributeError",
     "evalue": "'NoneType' object has no attribute 'values'",
     "output_type": "error",
     "traceback": [
      "\u001B[0;31m---------------------------------------------------------------------------\u001B[0m",
      "\u001B[0;31mAttributeError\u001B[0m                            Traceback (most recent call last)",
      "Cell \u001B[0;32mIn[8], line 13\u001B[0m\n\u001B[1;32m     10\u001B[0m         \u001B[38;5;28mprint\u001B[39m(\u001B[38;5;124mf\u001B[39m\u001B[38;5;124m\"\u001B[39m\u001B[38;5;124msomething wrong with $\u001B[39m\u001B[38;5;132;01m{\u001B[39;00msymbol\u001B[38;5;132;01m}\u001B[39;00m\u001B[38;5;124m\"\u001B[39m)\n\u001B[1;32m     11\u001B[0m         \u001B[38;5;28;01mcontinue\u001B[39;00m\n\u001B[0;32m---> 13\u001B[0m sorted_scores \u001B[38;5;241m=\u001B[39m \u001B[38;5;28;43msorted\u001B[39;49m\u001B[43m(\u001B[49m\u001B[43mscores\u001B[49m\u001B[38;5;241;43m.\u001B[39;49m\u001B[43mitems\u001B[49m\u001B[43m(\u001B[49m\u001B[43m)\u001B[49m\u001B[43m,\u001B[49m\u001B[43m \u001B[49m\u001B[43mkey\u001B[49m\u001B[38;5;241;43m=\u001B[39;49m\u001B[38;5;28;43;01mlambda\u001B[39;49;00m\u001B[43m \u001B[49m\u001B[43mx\u001B[49m\u001B[43m:\u001B[49m\u001B[38;5;28;43msum\u001B[39;49m\u001B[43m(\u001B[49m\u001B[43mx\u001B[49m\u001B[43m[\u001B[49m\u001B[38;5;241;43m1\u001B[39;49m\u001B[43m]\u001B[49m\u001B[38;5;241;43m.\u001B[39;49m\u001B[43mvalues\u001B[49m\u001B[43m(\u001B[49m\u001B[43m)\u001B[49m\u001B[43m)\u001B[49m\u001B[43m,\u001B[49m\u001B[43m \u001B[49m\u001B[43mreverse\u001B[49m\u001B[38;5;241;43m=\u001B[39;49m\u001B[38;5;28;43;01mTrue\u001B[39;49;00m\u001B[43m)\u001B[49m\n",
      "Cell \u001B[0;32mIn[8], line 13\u001B[0m, in \u001B[0;36m<lambda>\u001B[0;34m(x)\u001B[0m\n\u001B[1;32m     10\u001B[0m         \u001B[38;5;28mprint\u001B[39m(\u001B[38;5;124mf\u001B[39m\u001B[38;5;124m\"\u001B[39m\u001B[38;5;124msomething wrong with $\u001B[39m\u001B[38;5;132;01m{\u001B[39;00msymbol\u001B[38;5;132;01m}\u001B[39;00m\u001B[38;5;124m\"\u001B[39m)\n\u001B[1;32m     11\u001B[0m         \u001B[38;5;28;01mcontinue\u001B[39;00m\n\u001B[0;32m---> 13\u001B[0m sorted_scores \u001B[38;5;241m=\u001B[39m \u001B[38;5;28msorted\u001B[39m(scores\u001B[38;5;241m.\u001B[39mitems(), key\u001B[38;5;241m=\u001B[39m\u001B[38;5;28;01mlambda\u001B[39;00m x:\u001B[38;5;28msum\u001B[39m(\u001B[43mx\u001B[49m\u001B[43m[\u001B[49m\u001B[38;5;241;43m1\u001B[39;49m\u001B[43m]\u001B[49m\u001B[38;5;241;43m.\u001B[39;49m\u001B[43mvalues\u001B[49m()), reverse\u001B[38;5;241m=\u001B[39m\u001B[38;5;28;01mTrue\u001B[39;00m)\n",
      "\u001B[0;31mAttributeError\u001B[0m: 'NoneType' object has no attribute 'values'"
     ]
    }
   ],
   "source": [
    "from data.TimescaleDBSticksDao import get_sticks\n",
    "from datetime import timedelta\n",
    "from pandas import Timestamp\n",
    "\n",
    "scores = {}\n",
    "for symbol in symbols:\n",
    "    try:\n",
    "        scores[symbol] = score_of_symbol(symbol, datetime.today())\n",
    "    except Exception:\n",
    "        print(f\"something wrong with ${symbol}\")\n",
    "        continue\n",
    "\n",
    "sorted_scores = sorted(scores.items(), key=lambda x:sum(x[1].values()), reverse=True)"
   ],
   "metadata": {
    "collapsed": false
   }
  },
  {
   "cell_type": "code",
   "execution_count": 13,
   "outputs": [
    {
     "name": "stdout",
     "output_type": "stream",
     "text": [
      "AJ.D.3563JT.DAILY.IP\n"
     ]
    },
    {
     "data": {
      "text/plain": "{'CDLSPINNINGTOP': 100}"
     },
     "execution_count": 13,
     "metadata": {},
     "output_type": "execute_result"
    }
   ],
   "source": [
    "from data.Symbols import load_symbols_info\n",
    "\n",
    "dct = load_symbols_info()\n",
    "sushi_symbol = [key for key, value in dct.items() if 'Sushiro' in value][0]\n",
    "print(sushi_symbol)\n",
    "sushi_score = score_of_symbol(sushi_symbol,datetime.strptime('2020-04-27 14:30:00', '%Y-%m-%d %H:%M:%S'), datetime.strptime('2023-04-10 14:30:00', '%Y-%m-%d %H:%M:%S'))\n",
    "sushi_score"
   ],
   "metadata": {
    "collapsed": false
   }
  },
  {
   "cell_type": "code",
   "execution_count": 4,
   "outputs": [
    {
     "name": "stdout",
     "output_type": "stream",
     "text": [
      "None\n"
     ]
    }
   ],
   "source": [
    "print(sushi_score)"
   ],
   "metadata": {
    "collapsed": false
   }
  },
  {
   "cell_type": "code",
   "execution_count": 25,
   "outputs": [
    {
     "name": "stdout",
     "output_type": "stream",
     "text": [
      "7606    Frontier Communications Parent Inc\n",
      "Name: instrumentName, dtype: object\n",
      "10139    Sixth Street Specialty Lending\n",
      "Name: instrumentName, dtype: object\n",
      "10639    Toro Corp\n",
      "Name: instrumentName, dtype: object\n",
      "12815    OceanaGold Corporation\n",
      "Name: instrumentName, dtype: object\n",
      "13234    Schneider Electric SA\n",
      "Name: instrumentName, dtype: object\n"
     ]
    },
    {
     "data": {
      "text/plain": "[None, None, None, None, None]"
     },
     "execution_count": 25,
     "metadata": {},
     "output_type": "execute_result"
    }
   ],
   "source": [
    "import pandas as pd\n",
    "from data.Symbols import basePath\n",
    "import json\n",
    "\n",
    "with open(f\"{basePath}/dfb-share-list\", 'r') as file:\n",
    "    symbol_infos = pd.DataFrame(json.load(file))\n",
    "\n",
    "# Top trending up candlestick pattern\n",
    "up_signs = sorted_scores[0:5]\n",
    "[print(symbol_infos[symbol_infos.epic == up_sign[0]].instrumentName)  for up_sign in up_signs]"
   ],
   "metadata": {
    "collapsed": false
   }
  },
  {
   "cell_type": "code",
   "execution_count": 34,
   "outputs": [
    {
     "name": "stdout",
     "output_type": "stream",
     "text": [
      "10889    Unum Group\n",
      "Name: instrumentName, dtype: object\n",
      "15558    Otsuka Holdings Co Ltd\n",
      "Name: instrumentName, dtype: object\n",
      "15862    Tokyo Broadcasting System Holdings Inc\n",
      "Name: instrumentName, dtype: object\n",
      "10718    TRI Pointe Group Inc\n",
      "Name: instrumentName, dtype: object\n",
      "14091    GF Securities Co Ltd\n",
      "Name: instrumentName, dtype: object\n"
     ]
    },
    {
     "data": {
      "text/plain": "[None, None, None, None, None]"
     },
     "execution_count": 34,
     "metadata": {},
     "output_type": "execute_result"
    }
   ],
   "source": [
    "# Top trending down candlestick pattern\n",
    "down_signs = sorted_scores[-6:-1]\n",
    "[print(symbol_infos[symbol_infos.epic == s[0]].instrumentName)  for s in down_signs]"
   ],
   "metadata": {
    "collapsed": false
   }
  },
  {
   "cell_type": "code",
   "execution_count": 8,
   "outputs": [
    {
     "ename": "IndexError",
     "evalue": "list index out of range",
     "output_type": "error",
     "traceback": [
      "\u001B[0;31m---------------------------------------------------------------------------\u001B[0m",
      "\u001B[0;31mIndexError\u001B[0m                                Traceback (most recent call last)",
      "Cell \u001B[0;32mIn[8], line 3\u001B[0m\n\u001B[1;32m      1\u001B[0m \u001B[38;5;28;01mfrom\u001B[39;00m \u001B[38;5;21;01mswing_trainer\u001B[39;00m\u001B[38;5;21;01m.\u001B[39;00m\u001B[38;5;21;01mmain\u001B[39;00m \u001B[38;5;28;01mimport\u001B[39;00m plot_chart\n\u001B[0;32m----> 3\u001B[0m symbol \u001B[38;5;241m=\u001B[39m \u001B[43msorted_scores\u001B[49m\u001B[43m[\u001B[49m\u001B[38;5;241;43m1\u001B[39;49m\u001B[43m]\u001B[49m[\u001B[38;5;241m0\u001B[39m]\n\u001B[1;32m      4\u001B[0m sticks \u001B[38;5;241m=\u001B[39m get_all_sticks(symbol, interval)\n\u001B[1;32m      5\u001B[0m plot_chart(symbol, sticks\u001B[38;5;241m.\u001B[39miloc[:\u001B[38;5;241m100\u001B[39m])\n",
      "\u001B[0;31mIndexError\u001B[0m: list index out of range"
     ]
    }
   ],
   "source": [
    "from swing_trainer.main import plot_chart\n",
    "\n",
    "symbol = sorted_scores[1][0]\n",
    "sticks = get_sticks(symbol, interval)\n",
    "plot_chart(symbol, sticks.iloc[:100])"
   ],
   "metadata": {
    "collapsed": false
   }
  }
 ],
 "metadata": {
  "kernelspec": {
   "display_name": "Python 3",
   "language": "python",
   "name": "python3"
  },
  "language_info": {
   "codemirror_mode": {
    "name": "ipython",
    "version": 2
   },
   "file_extension": ".py",
   "mimetype": "text/x-python",
   "name": "python",
   "nbconvert_exporter": "python",
   "pygments_lexer": "ipython2",
   "version": "2.7.6"
  }
 },
 "nbformat": 4,
 "nbformat_minor": 0
}
